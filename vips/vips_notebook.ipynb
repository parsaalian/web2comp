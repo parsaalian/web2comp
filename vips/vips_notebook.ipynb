{
 "cells": [
  {
   "cell_type": "code",
   "execution_count": null,
   "id": "55715aff",
   "metadata": {},
   "outputs": [],
   "source": [
    "import time\n",
    "import json\n",
    "from pathlib import Path\n",
    "from selenium.webdriver import Chrome\n",
    "from selenium.webdriver.chrome.service import Service\n",
    "from selenium.webdriver.chrome.options import Options\n",
    "from selenium.webdriver.support.ui import WebDriverWait\n",
    "from webdriver_manager.chrome import ChromeDriverManager\n",
    "from PIL import Image\n",
    "import shutil, pathlib\n",
    "import json, io, textwrap\n",
    "\n",
    "URL = 'https://github.com/facebook'\n",
    "\n",
    "folder_name = URL.rstrip(\"/\").replace(\"://\",\"_\").replace(\"/\",\"_\")\n",
    "out_dir = pathlib.Path(folder_name)\n",
    "\n",
    "# --- nuke existing contents, keep the folder itself ---\n",
    "if out_dir.exists():\n",
    "    shutil.rmtree(out_dir)   \n",
    "out_dir.mkdir(parents=True, exist_ok=True)"
   ]
  },
  {
   "cell_type": "code",
   "execution_count": null,
   "id": "83f8dbdd",
   "metadata": {},
   "outputs": [],
   "source": [
    "def vips(pDoc: int, webpage: str, out_dir: str):\n",
    "    chrome_options = Options()\n",
    "    chrome_options.set_capability('goog:loggingPrefs', {'browser': 'ALL'})\n",
    "    chrome_options.add_argument(\"--headless=new\")\n",
    "    chrome_options.add_argument(\"--hide-scrollbars\")                # Hide scrollbars to avoid affecting layout\n",
    "    # chrome_options.add_argument(\"--window-size=1200,830\")\n",
    "    # chrome_options.add_argument(\"--force-device-scale-factor=1\")  # Force known scale factor\n",
    "    # chrome_options.add_argument(\"--disable-gpu\")\n",
    "    chrome_options.add_argument(\"--allow-file-access-from-files\")   # local files\n",
    "    chrome_options.add_argument(\"--disable-web-security\")           # (CORS for <file://>)\n",
    "\n",
    "    driver = Chrome(\n",
    "        service=Service(ChromeDriverManager().install()),\n",
    "        options=chrome_options\n",
    "    )\n",
    "\n",
    "    # Change input path to include file://\n",
    "    if not webpage.startswith((\"http://\", \"https://\", \"file://\")):\n",
    "        webpage = Path(webpage).expanduser().resolve().as_uri()\n",
    "\n",
    "    driver.get(webpage)\n",
    "\n",
    "    w = driver.execute_script(\"return document.body.scrollWidth\")\n",
    "    h = driver.execute_script(\"return document.body.scrollHeight\")\n",
    "    driver.set_window_size(w, h)\n",
    "\n",
    "    # Wait for document ready state\n",
    "    WebDriverWait(driver, 10).until(\n",
    "        lambda d: d.execute_script(\"return document.readyState\") == \"complete\"\n",
    "    )\n",
    "\n",
    "    # Wait a bit more for any JS-triggered rendering to complete\n",
    "    time.sleep(2)\n",
    "\n",
    "    vips_js = None\n",
    "\n",
    "    with open('vips-es6.js', 'r', encoding='utf-8') as f:\n",
    "        vips_js = f.read()\n",
    "\n",
    "    try:\n",
    "        output = driver.execute_script(f'''\n",
    "        {vips_js}\n",
    "        const tester = new VipsTester();\n",
    "        return tester.main('output.json', {pDoc});\n",
    "        ''')\n",
    "        \n",
    "        print(output)\n",
    "        \n",
    "        # Normal path: write the segmentation JSON to disk\n",
    "        with open(f'{out_dir}/output_{pDoc}.json', 'w', encoding='utf-8') as f:\n",
    "            json.dump(json.loads(output), f)\n",
    "        # Give a very brief moment for logs to process if needed (often not required)\n",
    "        # time.sleep(0.5)\n",
    "\n",
    "        # 4. Retrieve the logs\n",
    "        # 'browser' corresponds to the key used in loggingPrefs\n",
    "        logs = driver.get_log('browser')\n",
    "\n",
    "        print(\"\\n--- Captured Browser Logs ---\")\n",
    "        if logs:\n",
    "            for log_entry in logs:\n",
    "                # log_entry is a dictionary like:\n",
    "                # {'level': 'INFO', 'message': '...', 'source': 'console-api', 'timestamp': 167...}\n",
    "                print(f\"Level: {log_entry['level']}, Message: {log_entry['message']}\")\n",
    "                # print(log_entry) # Print the full entry if you want more details\n",
    "        else:\n",
    "            print(\"No browser logs captured.\")\n",
    "        print(\"---------------------------\\n\")\n",
    "\n",
    "    except Exception as e:\n",
    "        print(f\"An error occurred: {e}\")\n",
    "\n",
    "    # Load VIPS Segmentation\n",
    "    with open(f'{out_dir}/output_{pDoc}.json') as f:\n",
    "        vips = json.load(f)[\"segmentations\"][\"vips\"]\n",
    "\n",
    "    # Compute full page size in CSS px from the polygons themselves\n",
    "    all_pts = [pt\n",
    "            for mps in vips\n",
    "            for mp  in mps\n",
    "            for poly in mp\n",
    "            for pt  in poly]\n",
    "\n",
    "    page_width  = max(p[0] for p in all_pts)\n",
    "    page_height = max(p[1] for p in all_pts)\n",
    "\n",
    "    driver.set_window_size(page_width, page_height)   # exact CSS space\n",
    "\n",
    "    # Inject overlay <div>s directly into the DOM \n",
    "    vips_js_payload = textwrap.dedent(f\"\"\"\n",
    "        (function() {{\n",
    "        const vips = {json.dumps(vips)};\n",
    "\n",
    "        /* add CSS once */\n",
    "        const style = document.createElement('style');\n",
    "        style.textContent = `\n",
    "            .vips-overlay {{\n",
    "            position:absolute;\n",
    "            background:rgba(0,128,255,.25);  /* 25 % opacity blue */\n",
    "            outline:2px solid red;\n",
    "            z-index:2147483647;\n",
    "            pointer-events:none;\n",
    "            }}`;\n",
    "        document.head.appendChild(style);\n",
    "\n",
    "        /* draw each VIPS block as an overlay */\n",
    "        vips.forEach(mps =>\n",
    "            mps.forEach(mp =>\n",
    "            mp.forEach(poly => {{\n",
    "                const xs = poly.map(p => p[0]);\n",
    "                const ys = poly.map(p => p[1]);\n",
    "                const box = document.createElement('div');\n",
    "                box.className = 'vips-overlay';\n",
    "                box.style.left   = Math.min(...xs) + 'px';\n",
    "                box.style.top    = Math.min(...ys) + 'px';\n",
    "                box.style.width  = (Math.max(...xs) - Math.min(...xs)) + 'px';\n",
    "                box.style.height = (Math.max(...ys) - Math.min(...ys)) + 'px';\n",
    "                document.body.appendChild(box);\n",
    "            }})));\n",
    "        }})();\"\"\")\n",
    "\n",
    "    driver.execute_script(vips_js_payload)\n",
    "\n",
    "    # Capture the screenshot\n",
    "    png = driver.get_screenshot_as_png()\n",
    "    with open(f'{out_dir}/boxed_{pDoc}.png', \"wb\") as fh:\n",
    "        fh.write(png)\n",
    "\n",
    "    #  Show it in-line\n",
    "    # display(Image.open(io.BytesIO(png)))\n",
    "\n",
    "    driver.quit()\n"
   ]
  },
  {
   "cell_type": "markdown",
   "id": "0bffcff7",
   "metadata": {},
   "source": [
    "### Scripts"
   ]
  },
  {
   "cell_type": "code",
   "execution_count": 14,
   "id": "31ce2e20",
   "metadata": {},
   "outputs": [
    {
     "name": "stdout",
     "output_type": "stream",
     "text": [
      "{\"id\":\"output.json\",\"height\":236,\"width\":1184,\"segmentations\":{\"vips\":[[[[[0,0],[0,178],[1184,178],[1184,0],[0,0]]]],[[[[0,198],[0,236],[1184,236],[1184,198],[0,198]]]]]}}\n",
      "An error occurred: [Errno 2] No such file or directory: 'datasets/dataset-popular/abcnews.go.com/output_1.json'\n"
     ]
    },
    {
     "ename": "FileNotFoundError",
     "evalue": "[Errno 2] No such file or directory: 'datasets/dataset-popular/abcnews.go.com/output_1.json'",
     "output_type": "error",
     "traceback": [
      "\u001b[0;31m---------------------------------------------------------------------------\u001b[0m",
      "\u001b[0;31mFileNotFoundError\u001b[0m                         Traceback (most recent call last)",
      "Cell \u001b[0;32mIn[14], line 1\u001b[0m\n\u001b[0;32m----> 1\u001b[0m \u001b[43mvips\u001b[49m\u001b[43m(\u001b[49m\u001b[38;5;241;43m1\u001b[39;49m\u001b[43m,\u001b[49m\u001b[43m \u001b[49m\n\u001b[1;32m      2\u001b[0m \u001b[43m     \u001b[49m\u001b[38;5;124;43m\"\u001b[39;49m\u001b[38;5;124;43mevaluation/segmentation/datasets/dataset-popular/abcnews.go.com/abcnews.go.com/index.dom.html\u001b[39;49m\u001b[38;5;124;43m\"\u001b[39;49m\u001b[43m,\u001b[49m\u001b[43m \u001b[49m\n\u001b[1;32m      3\u001b[0m \u001b[43m     \u001b[49m\u001b[38;5;124;43m\"\u001b[39;49m\u001b[38;5;124;43mdatasets/dataset-popular/abcnews.go.com\u001b[39;49m\u001b[38;5;124;43m\"\u001b[39;49m\u001b[43m)\u001b[49m\n",
      "Cell \u001b[0;32mIn[10], line 74\u001b[0m, in \u001b[0;36mvips\u001b[0;34m(pDoc, webpage, out_dir)\u001b[0m\n\u001b[1;32m     71\u001b[0m     \u001b[38;5;28mprint\u001b[39m(\u001b[38;5;124mf\u001b[39m\u001b[38;5;124m\"\u001b[39m\u001b[38;5;124mAn error occurred: \u001b[39m\u001b[38;5;132;01m{\u001b[39;00me\u001b[38;5;132;01m}\u001b[39;00m\u001b[38;5;124m\"\u001b[39m)\n\u001b[1;32m     73\u001b[0m \u001b[38;5;66;03m# Load VIPS Segmentation\u001b[39;00m\n\u001b[0;32m---> 74\u001b[0m \u001b[38;5;28;01mwith\u001b[39;00m \u001b[38;5;28;43mopen\u001b[39;49m\u001b[43m(\u001b[49m\u001b[38;5;124;43mf\u001b[39;49m\u001b[38;5;124;43m'\u001b[39;49m\u001b[38;5;132;43;01m{\u001b[39;49;00m\u001b[43mout_dir\u001b[49m\u001b[38;5;132;43;01m}\u001b[39;49;00m\u001b[38;5;124;43m/output_\u001b[39;49m\u001b[38;5;132;43;01m{\u001b[39;49;00m\u001b[43mpDoc\u001b[49m\u001b[38;5;132;43;01m}\u001b[39;49;00m\u001b[38;5;124;43m.json\u001b[39;49m\u001b[38;5;124;43m'\u001b[39;49m\u001b[43m)\u001b[49m \u001b[38;5;28;01mas\u001b[39;00m f:\n\u001b[1;32m     75\u001b[0m     vips \u001b[38;5;241m=\u001b[39m json\u001b[38;5;241m.\u001b[39mload(f)[\u001b[38;5;124m\"\u001b[39m\u001b[38;5;124msegmentations\u001b[39m\u001b[38;5;124m\"\u001b[39m][\u001b[38;5;124m\"\u001b[39m\u001b[38;5;124mvips\u001b[39m\u001b[38;5;124m\"\u001b[39m]\n\u001b[1;32m     77\u001b[0m \u001b[38;5;66;03m# Compute full page size in CSS px from the polygons themselves\u001b[39;00m\n",
      "File \u001b[0;32m/opt/miniconda3/envs/auto_assert/lib/python3.10/site-packages/IPython/core/interactiveshell.py:324\u001b[0m, in \u001b[0;36m_modified_open\u001b[0;34m(file, *args, **kwargs)\u001b[0m\n\u001b[1;32m    317\u001b[0m \u001b[38;5;28;01mif\u001b[39;00m file \u001b[38;5;129;01min\u001b[39;00m {\u001b[38;5;241m0\u001b[39m, \u001b[38;5;241m1\u001b[39m, \u001b[38;5;241m2\u001b[39m}:\n\u001b[1;32m    318\u001b[0m     \u001b[38;5;28;01mraise\u001b[39;00m \u001b[38;5;167;01mValueError\u001b[39;00m(\n\u001b[1;32m    319\u001b[0m         \u001b[38;5;124mf\u001b[39m\u001b[38;5;124m\"\u001b[39m\u001b[38;5;124mIPython won\u001b[39m\u001b[38;5;124m'\u001b[39m\u001b[38;5;124mt let you open fd=\u001b[39m\u001b[38;5;132;01m{\u001b[39;00mfile\u001b[38;5;132;01m}\u001b[39;00m\u001b[38;5;124m by default \u001b[39m\u001b[38;5;124m\"\u001b[39m\n\u001b[1;32m    320\u001b[0m         \u001b[38;5;124m\"\u001b[39m\u001b[38;5;124mas it is likely to crash IPython. If you know what you are doing, \u001b[39m\u001b[38;5;124m\"\u001b[39m\n\u001b[1;32m    321\u001b[0m         \u001b[38;5;124m\"\u001b[39m\u001b[38;5;124myou can use builtins\u001b[39m\u001b[38;5;124m'\u001b[39m\u001b[38;5;124m open.\u001b[39m\u001b[38;5;124m\"\u001b[39m\n\u001b[1;32m    322\u001b[0m     )\n\u001b[0;32m--> 324\u001b[0m \u001b[38;5;28;01mreturn\u001b[39;00m \u001b[43mio_open\u001b[49m\u001b[43m(\u001b[49m\u001b[43mfile\u001b[49m\u001b[43m,\u001b[49m\u001b[43m \u001b[49m\u001b[38;5;241;43m*\u001b[39;49m\u001b[43margs\u001b[49m\u001b[43m,\u001b[49m\u001b[43m \u001b[49m\u001b[38;5;241;43m*\u001b[39;49m\u001b[38;5;241;43m*\u001b[39;49m\u001b[43mkwargs\u001b[49m\u001b[43m)\u001b[49m\n",
      "\u001b[0;31mFileNotFoundError\u001b[0m: [Errno 2] No such file or directory: 'datasets/dataset-popular/abcnews.go.com/output_1.json'"
     ]
    }
   ],
   "source": [
    "vips(1, \n",
    "     \"evaluation/segmentation/datasets/dataset-popular/abcnews.go.com/abcnews.go.com/index.dom.html\", \n",
    "     \"datasets/dataset-popular/abcnews.go.com\")"
   ]
  },
  {
   "cell_type": "code",
   "execution_count": null,
   "id": "048fb358",
   "metadata": {},
   "outputs": [
    {
     "ename": "NameError",
     "evalue": "name 'vips' is not defined",
     "output_type": "error",
     "traceback": [
      "\u001b[0;31m---------------------------------------------------------------------------\u001b[0m",
      "\u001b[0;31mNameError\u001b[0m                                 Traceback (most recent call last)",
      "Cell \u001b[0;32mIn[1], line 2\u001b[0m\n\u001b[1;32m      1\u001b[0m \u001b[38;5;28;01mfor\u001b[39;00m i \u001b[38;5;129;01min\u001b[39;00m \u001b[38;5;28mrange\u001b[39m(\u001b[38;5;241m1\u001b[39m, \u001b[38;5;241m12\u001b[39m):\n\u001b[0;32m----> 2\u001b[0m     \u001b[43mvips\u001b[49m(i)\n",
      "\u001b[0;31mNameError\u001b[0m: name 'vips' is not defined"
     ]
    }
   ],
   "source": [
    "for i in range(1, 12):\n",
    "    vips(i, URL, out_dir)"
   ]
  },
  {
   "cell_type": "code",
   "execution_count": null,
   "id": "f3a0abda",
   "metadata": {},
   "outputs": [
    {
     "name": "stdout",
     "output_type": "stream",
     "text": [
      "6\n",
      "6\n",
      "6\n",
      "6\n",
      "6\n",
      "6\n",
      "14\n",
      "84\n",
      "86\n",
      "136\n",
      "136\n"
     ]
    }
   ],
   "source": [
    "for i in range(1,12):\n",
    "    with open(f'{out_dir}/output_{i}.json') as f:\n",
    "        vips = json.load(f)[\"segmentations\"][\"vips\"]\n",
    "        print(len(vips))"
   ]
  }
 ],
 "metadata": {
  "kernelspec": {
   "display_name": "auto_assert",
   "language": "python",
   "name": "python3"
  },
  "language_info": {
   "codemirror_mode": {
    "name": "ipython",
    "version": 3
   },
   "file_extension": ".py",
   "mimetype": "text/x-python",
   "name": "python",
   "nbconvert_exporter": "python",
   "pygments_lexer": "ipython3",
   "version": "3.10.17"
  }
 },
 "nbformat": 4,
 "nbformat_minor": 5
}
