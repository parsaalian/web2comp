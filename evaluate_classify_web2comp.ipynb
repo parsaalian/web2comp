{
 "cells": [
  {
   "cell_type": "code",
   "execution_count": 1,
   "id": "a0f5a24a-7d7e-4e3a-a9e8-8065a275d7f1",
   "metadata": {},
   "outputs": [],
   "source": [
    "%load_ext autoreload\n",
    "%autoreload 2"
   ]
  },
  {
   "cell_type": "code",
   "execution_count": 2,
   "id": "ebcc767c-22f5-4c89-a548-ecf49276718b",
   "metadata": {},
   "outputs": [],
   "source": [
    "from selenium.webdriver.common.by import By\n",
    "\n",
    "from visca.browser import (\n",
    "    create_driver,\n",
    "    ensure_page_loaded,\n",
    "    capture_full_page_screenshot\n",
    ")\n",
    "from visca.element_extractor import (\n",
    "    extract_elements_from_driver,\n",
    "    save_elements\n",
    ")\n",
    "from visca.dedup import deduplicate_screenshots\n",
    "from visca.virtual_node import (\n",
    "    build_dom_tree,\n",
    "    VirtualNode\n",
    ")\n",
    "from visca.segment import (\n",
    "    tag_multiset,\n",
    "    jaccard_distance,\n",
    "    subtree_size,\n",
    "    calculate_psi_avg,\n",
    "    calculate_psi_sum,\n",
    "    gather_instances,\n",
    "    ascii_tree,\n",
    ")\n",
    "\n",
    "from visca.llm.gemini import create_model\n",
    "from visca.prompts import (\n",
    "    PAGE_CONTEXT_EXTRACTION_SYSTEM_PROMPT,\n",
    "    CLASSIFICATION_AND_CONTEXT_PROMPT,\n",
    "    # CONTEXTUAL_DESCRIPTION_PROMPT,\n",
    "    COMPONENT_GENERATION_PROMPT,\n",
    "    # LIST_COMPONENT_GENERATION_PROMPT\n",
    ")\n",
    "from visca.llm_processing import (\n",
    "    _get_ancestor_context,\n",
    "    classify_and_describe_candidates,\n",
    "    transform_candidate\n",
    ")"
   ]
  },
  {
   "cell_type": "markdown",
   "id": "90c2f7ed-16d0-4681-9df7-334af0da12e9",
   "metadata": {},
   "source": [
    "# Initialization"
   ]
  },
  {
   "cell_type": "code",
   "execution_count": 3,
   "id": "bc845557-f1fc-43ad-ba5c-7688e1c6c981",
   "metadata": {},
   "outputs": [],
   "source": [
    "import time\n",
    "import os\n",
    "import io\n",
    "import time\n",
    "import json\n",
    "from typing import Tuple\n",
    "import json, textwrap, time, io\n",
    "from pathlib import Path\n",
    "from selenium import webdriver\n",
    "from selenium.webdriver.chrome.options import Options\n",
    "from selenium.webdriver.chrome.service import Service\n",
    "from webdriver_manager.chrome import ChromeDriverManager\n",
    "from PIL import Image   # only if you want to display inline in a notebook\n",
    "\n",
    "from selenium.webdriver import Chrome\n",
    "from selenium.webdriver.chrome.service import Service\n",
    "from selenium.webdriver.chrome.options import Options\n",
    "from selenium.webdriver.support.ui import WebDriverWait\n",
    "from webdriver_manager.chrome import ChromeDriverManager\n",
    "from selenium.webdriver.remote.webdriver import WebDriver\n",
    "from selenium.webdriver.remote.webelement import WebElement"
   ]
  },
  {
   "cell_type": "markdown",
   "id": "46a3cbe1-9d26-4bf6-9410-b50aba11b651",
   "metadata": {},
   "source": [
    "# DOM Element Extraction"
   ]
  },
  {
   "cell_type": "code",
   "execution_count": 4,
   "id": "a431da66-cbdb-4fca-91f7-463d1d046c51",
   "metadata": {
    "scrolled": true
   },
   "outputs": [],
   "source": [
    "\n",
    "def extraction(url: str, out_dir: str):\n",
    "    chrome_options = Options()\n",
    "    chrome_options.add_argument(\"--headless\")\n",
    "    chrome_options.add_argument(\"--window-size=1920,1080\")\n",
    "    chrome_options.add_argument(\"--hide-scrollbars\")  # Hide scrollbars to avoid affecting layout\n",
    "    chrome_options.add_argument(\"--force-device-scale-factor=1\")  # Force known scale factor\n",
    "    chrome_options.add_argument(\"--disable-gpu\")\n",
    "    chrome_options.page_load_strategy = \"eager\" # <- Eager loading \n",
    "\n",
    "    chrome_path = ChromeDriverManager().install()\n",
    "    if \"THIRD_PARTY_NOTICES.chromedriver\" in chrome_path:\n",
    "        chrome_path = chrome_path.replace(\"THIRD_PARTY_NOTICES.chromedriver\", \"chromedriver\")\n",
    "    os.chmod(chrome_path, 755)\n",
    "\n",
    "    driver = Chrome(\n",
    "        service=Service(ChromeDriverManager().install()),\n",
    "        options=chrome_options\n",
    "    )\n",
    "\n",
    "    driver.get(url)\n",
    "\n",
    "    time.sleep(5)\n",
    "    driver.execute_script(\"window.stop();\")\n",
    "        \n",
    "    dom_elements = extract_elements_from_driver(driver)\n",
    "\n",
    "    dom_elements_with_screenshot = save_elements(\n",
    "    driver=driver,\n",
    "    result_dir=out_dir,\n",
    "    dom_elements=dom_elements\n",
    "    )\n",
    "\n",
    "    dom_elements_with_screenshot = list(filter(lambda x: 'screenshot' in x, dom_elements_with_screenshot))\n",
    "\n",
    "    deduplicated_elements = deduplicate_screenshots(dom_elements_with_screenshot)\n",
    "\n",
    "    reduced_tree = build_dom_tree(deduplicated_elements)\n",
    "\n",
    "    return reduced_tree, driver\n"
   ]
  },
  {
   "cell_type": "markdown",
   "id": "53f84824-dd70-48c7-b7f1-cec241538d43",
   "metadata": {},
   "source": [
    "# Segmentation"
   ]
  },
  {
   "cell_type": "markdown",
   "id": "8e568331",
   "metadata": {},
   "source": [
    "### Sum"
   ]
  },
  {
   "cell_type": "code",
   "execution_count": 5,
   "id": "20e7b573",
   "metadata": {},
   "outputs": [],
   "source": [
    "def segmentation(reduced_tree: VirtualNode, out_dir: str):\n",
    "    calculate_psi_sum(reduced_tree)                           # new size logic in use\n",
    "    instances = gather_instances(reduced_tree)\n",
    "\n",
    "    print(\"Number of Segments: \", len(instances.keys()))\n",
    "\n",
    "    # Printing Segment Size\n",
    "    # for xp, size in instances.items():\n",
    "    #     print(f\"{xp:<60}  subtree-nodes = {size}\")\n",
    "\n",
    "    with open(f'{out_dir}/segments.json','r',encoding='utf-8') as f:\n",
    "        leaves = json.load(f)\n",
    "\n",
    "    # group leaf XPaths under each root‑XPath\n",
    "    instance_details = {}\n",
    "    for root_xpath, count in instances.items():\n",
    "        \n",
    "        grouped = [\n",
    "        l for l in leaves\n",
    "        if l['xpath'] != root_xpath                 # not the root itself\n",
    "        and l['xpath'].startswith(root_xpath + '/') # true descendants only\n",
    "        ]\n",
    "\n",
    "        instance_details[root_xpath] = {\n",
    "            'count':  count,\n",
    "            'leaves': [l['xpath'] for l in grouped]\n",
    "        }\n",
    "\n",
    "    with open(f\"{out_dir}/segmentation_xpath_aa.json\", 'w', encoding='utf-8') as out:\n",
    "        json.dump(instance_details, out, indent=2, ensure_ascii=False)"
   ]
  },
  {
   "cell_type": "code",
   "execution_count": null,
   "id": "258ea709",
   "metadata": {},
   "outputs": [
    {
     "name": "stdout",
     "output_type": "stream",
     "text": [
      "file:///Users/martintang/Desktop/Github/auto-assert/evaluation/segmentation/datasets/dataset-popular/abcnews.go.com/abcnews.go.com/index.dom.html evaluation/segmentation/results/abcnews.go.com/llm\n"
     ]
    },
    {
     "ename": "KeyboardInterrupt",
     "evalue": "",
     "output_type": "error",
     "traceback": [
      "\u001b[0;31m---------------------------------------------------------------------------\u001b[0m",
      "\u001b[0;31mKeyboardInterrupt\u001b[0m                         Traceback (most recent call last)",
      "Cell \u001b[0;32mIn[6], line 8\u001b[0m\n\u001b[1;32m      5\u001b[0m \u001b[38;5;28mdir\u001b[39m \u001b[38;5;241m=\u001b[39m \u001b[38;5;124mf\u001b[39m\u001b[38;5;124m\"\u001b[39m\u001b[38;5;132;01m{\u001b[39;00mRESULTS_ROOT\u001b[38;5;132;01m}\u001b[39;00m\u001b[38;5;124m/\u001b[39m\u001b[38;5;132;01m{\u001b[39;00mWEBPAGE\u001b[38;5;132;01m}\u001b[39;00m\u001b[38;5;124m/llm\u001b[39m\u001b[38;5;124m\"\u001b[39m\n\u001b[1;32m      6\u001b[0m \u001b[38;5;28mprint\u001b[39m(url, \u001b[38;5;28mdir\u001b[39m)\n\u001b[0;32m----> 8\u001b[0m node, driver \u001b[38;5;241m=\u001b[39m \u001b[43mextraction\u001b[49m\u001b[43m(\u001b[49m\u001b[43murl\u001b[49m\u001b[43m,\u001b[49m\u001b[43m \u001b[49m\u001b[38;5;28;43mdir\u001b[39;49m\u001b[43m)\u001b[49m\n\u001b[1;32m      9\u001b[0m segmentation(node, \u001b[38;5;28mdir\u001b[39m)\n\u001b[1;32m     11\u001b[0m \u001b[38;5;66;03m# Visualization\u001b[39;00m\n\u001b[1;32m     12\u001b[0m \n\u001b[1;32m     13\u001b[0m \u001b[38;5;66;03m# screenshot_segments(\u001b[39;00m\n\u001b[0;32m   (...)\u001b[0m\n\u001b[1;32m     24\u001b[0m \u001b[38;5;66;03m#     delay=5.0,   \u001b[39;00m\n\u001b[1;32m     25\u001b[0m \u001b[38;5;66;03m# )\u001b[39;00m\n",
      "Cell \u001b[0;32mIn[4], line 22\u001b[0m, in \u001b[0;36mextraction\u001b[0;34m(url, out_dir)\u001b[0m\n\u001b[1;32m     15\u001b[0m driver \u001b[38;5;241m=\u001b[39m Chrome(\n\u001b[1;32m     16\u001b[0m     service\u001b[38;5;241m=\u001b[39mService(ChromeDriverManager()\u001b[38;5;241m.\u001b[39minstall()),\n\u001b[1;32m     17\u001b[0m     options\u001b[38;5;241m=\u001b[39mchrome_options\n\u001b[1;32m     18\u001b[0m )\n\u001b[1;32m     20\u001b[0m driver\u001b[38;5;241m.\u001b[39mget(url)\n\u001b[0;32m---> 22\u001b[0m \u001b[43mtime\u001b[49m\u001b[38;5;241;43m.\u001b[39;49m\u001b[43msleep\u001b[49m\u001b[43m(\u001b[49m\u001b[38;5;241;43m5\u001b[39;49m\u001b[43m)\u001b[49m\n\u001b[1;32m     23\u001b[0m driver\u001b[38;5;241m.\u001b[39mexecute_script(\u001b[38;5;124m\"\u001b[39m\u001b[38;5;124mwindow.stop();\u001b[39m\u001b[38;5;124m\"\u001b[39m)\n\u001b[1;32m     25\u001b[0m dom_elements \u001b[38;5;241m=\u001b[39m extract_elements_from_driver(driver)\n",
      "\u001b[0;31mKeyboardInterrupt\u001b[0m: "
     ]
    }
   ],
   "source": [
    "WEBPAGE = \"abcnews.go.com\"\n",
    "RESULTS_ROOT = Path(\"evaluation/segmentation/results\")      \n",
    "\n",
    "url = f\"file:///Users/martintang/Desktop/Github/auto-assert/evaluation/segmentation/datasets/dataset-popular/{WEBPAGE}/{WEBPAGE}/index.dom.html\"\n",
    "dir = f\"{RESULTS_ROOT}/{WEBPAGE}/llm\"\n",
    "print(url, dir)\n",
    "\n",
    "node, driver = extraction(url, dir)\n",
    "segmentation(node, dir)\n",
    "\n",
    "# Visualization\n",
    "\n",
    "# screenshot_segments(\n",
    "#     url=url,\n",
    "#     seg_json_path=f\"{dir}/segmentation_xpath_aa.json\",\n",
    "#     out_dir=dir,\n",
    "#     fname=\"auto_assert_boxed.png\",\n",
    "# )\n",
    "\n",
    "# export_parent_bboxes(\n",
    "#     url=url,\n",
    "#     seg_json_path=f\"{dir}/segmentation_xpath_aa.json\",\n",
    "#     out_json_path=f\"{dir}/segmentation_bbox_aa.json\",\n",
    "#     delay=5.0,   \n",
    "# )"
   ]
  },
  {
   "cell_type": "markdown",
   "id": "bce43ffa-0567-4d4b-b747-edcc6388bcd0",
   "metadata": {},
   "source": [
    "# Transformation"
   ]
  },
  {
   "cell_type": "markdown",
   "id": "d303fe7b-5ed9-4516-b270-392965de7bff",
   "metadata": {},
   "source": [
    "## Page Context"
   ]
  },
  {
   "cell_type": "code",
   "execution_count": null,
   "id": "f746dce3-e495-4bfd-9a9b-12bf6d8e2c4a",
   "metadata": {},
   "outputs": [],
   "source": [
    "screenshot = capture_full_page_screenshot(driver)\n",
    "screenshot.save(f'{dir}/screenshot.png')\n",
    "\n",
    "screenshot\n",
    "\n",
    "page_context_model = create_model(PAGE_CONTEXT_EXTRACTION_SYSTEM_PROMPT)\n",
    "page_context = page_context_model(file=f'{dir}/screenshot.png').text"
   ]
  },
  {
   "cell_type": "code",
   "execution_count": null,
   "id": "2c47c6b0-80c1-438f-a0ac-6dcbcd4acabe",
   "metadata": {},
   "outputs": [],
   "source": [
    "page_context"
   ]
  },
  {
   "cell_type": "markdown",
   "id": "6d386fdb-a5f5-414c-bd59-27e04812b350",
   "metadata": {},
   "source": [
    "## Classification"
   ]
  },
  {
   "cell_type": "code",
   "execution_count": null,
   "id": "86ac9369-dc63-4dfe-bb65-d42b7b5722c5",
   "metadata": {},
   "outputs": [],
   "source": [
    "classification_model = create_model(\n",
    "    CLASSIFICATION_AND_CONTEXT_PROMPT,\n",
    "    settings={\n",
    "        'temperature': 0\n",
    "    }\n",
    ")\n",
    "\n",
    "MEMORY = {}\n",
    "\n",
    "classified_tree, run_log = classify_and_describe_candidates(\n",
    "    root=node,\n",
    "    classification_model=classification_model,\n",
    "    page_context=page_context,\n",
    "    memory=MEMORY,\n",
    "    segment_json_path= f\"{dir}/segmentation_xpath_aa.json\"\n",
    ")\n",
    "\n",
    "print(run_log)"
   ]
  },
  {
   "cell_type": "code",
   "execution_count": null,
   "id": "33d3b121-ef68-4a8c-aec2-e876a8a1fab2",
   "metadata": {},
   "outputs": [],
   "source": [
    "classification_model.stats"
   ]
  },
  {
   "cell_type": "code",
   "execution_count": null,
   "id": "0b342f87",
   "metadata": {},
   "outputs": [],
   "source": [
    "# write them out\n",
    "with open(f'{dir}/run_log.json', 'w', encoding='utf-8') as f:\n",
    "    json.dump(run_log, f, indent=2, ensure_ascii=False)\n",
    "\n",
    "with open(f'{dir}/llm_evaluation.json', 'w', encoding='utf-8') as f:\n",
    "    json.dump(classification_model.stats, f, indent=2, ensure_ascii=False)\n",
    "\n",
    "print(\"Wrote run_log.json and llm_evaluation.json\")"
   ]
  },
  {
   "cell_type": "code",
   "execution_count": null,
   "id": "7b3ebee6",
   "metadata": {},
   "outputs": [],
   "source": []
  }
 ],
 "metadata": {
  "kernelspec": {
   "display_name": "auto_assert",
   "language": "python",
   "name": "python3"
  },
  "language_info": {
   "codemirror_mode": {
    "name": "ipython",
    "version": 3
   },
   "file_extension": ".py",
   "mimetype": "text/x-python",
   "name": "python",
   "nbconvert_exporter": "python",
   "pygments_lexer": "ipython3",
   "version": "3.10.17"
  }
 },
 "nbformat": 4,
 "nbformat_minor": 5
}
