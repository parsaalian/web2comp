{
 "cells": [
  {
   "cell_type": "code",
   "execution_count": null,
   "id": "656e18bf",
   "metadata": {},
   "outputs": [
    {
     "name": "stdout",
     "output_type": "stream",
     "text": [
      "https://kubernetes.io/docs/concepts/\n"
     ]
    }
   ],
   "source": [
    "import json, os, lxml.html\n",
    "from urllib.parse import urljoin   # only needed if you want to absolutize links\n",
    "\n",
    "URL = \"https://github.com/facebook\"\n",
    "\n",
    "FOLDER = URL.rstrip(\"/\").replace(\"://\",\"_\").replace(\"/\",\"_\")\n",
    "HTML_PATH     = os.path.join(FOLDER, \"page.html\")        \n",
    "JSON_PATH     = os.path.join(FOLDER, \"segmentation.json\") \n",
    "OUT_PATH      = os.path.join(FOLDER, \"annotated.html\")"
   ]
  },
  {
   "cell_type": "code",
   "execution_count": 2,
   "id": "2a4d90d8",
   "metadata": {},
   "outputs": [
    {
     "name": "stdout",
     "output_type": "stream",
     "text": [
      "✅ Annotated page written to https_kubernetes.io_docs_concepts/annotated.html\n"
     ]
    }
   ],
   "source": [
    "def add_style(el, css):\n",
    "    \"\"\"Append CSS to an element’s existing inline style.\"\"\"\n",
    "    current = el.get(\"style\", \"\")\n",
    "    if current and not current.endswith(\";\"):\n",
    "        current += \";\"\n",
    "    el.set(\"style\", current + css)\n",
    "\n",
    "# 1) Fiel Setup\n",
    "with open(HTML_PATH, encoding=\"utf‑8\") as f:\n",
    "    html_text = f.read()\n",
    "\n",
    "root = lxml.html.fromstring(html_text)\n",
    "if root.find(\".//head\") is None:\n",
    "    root.insert(0, lxml.html.Element(\"head\"))\n",
    "\n",
    "with open(JSON_PATH, encoding=\"utf‑8\") as f:\n",
    "    segmentation = json.load(f)\n",
    "\n",
    "# 2) outline parents & leaves\n",
    "for parent_xpath, info in segmentation.items():\n",
    "    for el in root.xpath(parent_xpath):\n",
    "        add_style(el, \"outline:4px solid red;\")\n",
    "\n",
    "    for leaf_xpath in info.get(\"leaves\", []):\n",
    "        try:\n",
    "            for el in root.xpath(leaf_xpath):\n",
    "                add_style(el, \"outline:2px solid lime;\")\n",
    "        except lxml.etree.XPathEvalError:\n",
    "            pass  # skip malformed XPath silently\n",
    "\n",
    "# (optional) make relative links absolute so images/CSS resolve when opened locally\n",
    "root.make_links_absolute(URL)\n",
    "\n",
    "# ---------------------------------------------------------------- 3) save annotated HTML\n",
    "os.makedirs(FOLDER, exist_ok=True)\n",
    "with open(OUT_PATH, \"wb\") as f:\n",
    "    f.write(\n",
    "        lxml.html.tostring(\n",
    "            root,\n",
    "            pretty_print=True,\n",
    "            encoding=\"utf-8\",\n",
    "            doctype=\"<!DOCTYPE html>\",\n",
    "        )\n",
    "    )\n",
    "\n",
    "print(f\"✅ Annotated page written to {OUT_PATH}\")\n"
   ]
  },
  {
   "cell_type": "code",
   "execution_count": null,
   "id": "c15d2113",
   "metadata": {},
   "outputs": [],
   "source": []
  }
 ],
 "metadata": {
  "kernelspec": {
   "display_name": "vizmod",
   "language": "python",
   "name": "python3"
  },
  "language_info": {
   "codemirror_mode": {
    "name": "ipython",
    "version": 3
   },
   "file_extension": ".py",
   "mimetype": "text/x-python",
   "name": "python",
   "nbconvert_exporter": "python",
   "pygments_lexer": "ipython3",
   "version": "3.10.17"
  }
 },
 "nbformat": 4,
 "nbformat_minor": 5
}
