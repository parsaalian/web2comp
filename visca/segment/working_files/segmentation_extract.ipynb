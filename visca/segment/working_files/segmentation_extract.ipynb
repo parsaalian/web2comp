{
 "cells": [
  {
   "cell_type": "markdown",
   "id": "18afd698",
   "metadata": {},
   "source": [
    "# Extract HTML Snippets for Segmentation Leaves\n",
    "This notebook:\n",
    "1. Loads **`segmentation.json`** (the XPath segmentation spec).\n",
    "2. Parses **`page.html`**.\n",
    "3. For every parent XPath and each of its leaf XPaths, serialises the matched HTML.\n",
    "4. Dumps the result to **`extracted_segments.json`** in the required structure."
   ]
  },
  {
   "cell_type": "code",
   "execution_count": 1,
   "id": "8d0123b1",
   "metadata": {},
   "outputs": [
    {
     "name": "stdout",
     "output_type": "stream",
     "text": [
      "https://github.com/facebook\n"
     ]
    }
   ],
   "source": [
    "import json, os\n",
    "from lxml import etree, html\n",
    "from dotenv import load_dotenv\n",
    "\n",
    "load_dotenv()\n",
    "URL = os.getenv('URL')\n",
    "print(URL)\n",
    "\n",
    "FOLDER = URL.rstrip(\"/\").replace(\"://\",\"_\").replace(\"/\",\"_\")\n",
    "\n",
    "SEG_FILE = os.path.join(FOLDER, \"segmentation.json\") \n",
    "HTML_FILE = os.path.join(FOLDER, \"page.html\")  \n",
    "OUTPUT_FILE = os.path.join(FOLDER, 'extracted_html_segments.json')"
   ]
  },
  {
   "cell_type": "code",
   "execution_count": 2,
   "id": "82e767ba",
   "metadata": {},
   "outputs": [
    {
     "name": "stdout",
     "output_type": "stream",
     "text": [
      "Loaded {len(segmentation)} parent nodes from https_github.com_facebook/segmentation.json\n"
     ]
    }
   ],
   "source": [
    "# Load segmentation spec\n",
    "with open(SEG_FILE, 'r', encoding='utf-8') as f:\n",
    "    segmentation = json.load(f)\n",
    "print(f'Loaded {{len(segmentation)}} parent nodes from {SEG_FILE}')"
   ]
  },
  {
   "cell_type": "code",
   "execution_count": 3,
   "id": "bc837048",
   "metadata": {},
   "outputs": [
    {
     "name": "stdout",
     "output_type": "stream",
     "text": [
      "HTML parsed successfully\n"
     ]
    }
   ],
   "source": [
    "# Parse HTML page\n",
    "with open(HTML_FILE, 'r', encoding='utf-8') as f:\n",
    "    page_text = f.read()\n",
    "tree = html.fromstring(page_text)\n",
    "print('HTML parsed successfully')"
   ]
  },
  {
   "cell_type": "code",
   "execution_count": 4,
   "id": "7b637fd7",
   "metadata": {},
   "outputs": [
    {
     "name": "stdout",
     "output_type": "stream",
     "text": [
      "Extraction complete\n"
     ]
    }
   ],
   "source": [
    "# 3) Extraction helpers & main loop\n",
    "def serialize(node):\n",
    "    return etree.tostring(node, pretty_print=True, method='html', encoding='unicode')\n",
    "\n",
    "output = {}\n",
    "\n",
    "for parent_xpath, info in segmentation.items():\n",
    "    parent_elem = tree.xpath(parent_xpath)\n",
    "    parent_html = serialize(parent_elem[0]) if parent_elem else None\n",
    "\n",
    "    raw_leaves = sorted(info.get('leaves', []), key=len)   # shortest first\n",
    "    outer_leaves = []\n",
    "    for p in raw_leaves:\n",
    "        if not any(p.startswith(ol + '/') for ol in outer_leaves):\n",
    "            outer_leaves.append(p)\n",
    "\n",
    "    leaves_serialised = []\n",
    "    for leaf_xpath in outer_leaves:\n",
    "        leaf_elem = tree.xpath(leaf_xpath)\n",
    "        # strip common prefix to shorten\n",
    "        rel_xpath = leaf_xpath[len(parent_xpath):] if leaf_xpath.startswith(parent_xpath) else leaf_xpath\n",
    "        if rel_xpath.startswith('/'):\n",
    "            rel_xpath = rel_xpath[1:]\n",
    "        leaves_serialised.append({\n",
    "            'xpath': rel_xpath,\n",
    "            'html': serialize(leaf_elem[0]) if leaf_elem else None\n",
    "        })\n",
    "\n",
    "    output[parent_xpath] = {\n",
    "        #'parent_html': parent_html,\n",
    "        'leaves': leaves_serialised\n",
    "    }\n",
    "\n",
    "print('Extraction complete')"
   ]
  },
  {
   "cell_type": "code",
   "execution_count": 5,
   "id": "c7df9a67",
   "metadata": {},
   "outputs": [
    {
     "name": "stdout",
     "output_type": "stream",
     "text": [
      "Wrote extracted data to https_github.com_facebook/extracted_html_segments.json\n"
     ]
    }
   ],
   "source": [
    "# Dump results to JSON\n",
    "with open(OUTPUT_FILE, 'w', encoding='utf-8') as f:\n",
    "    json.dump(output, f, indent=2, ensure_ascii=False)\n",
    "print(f'Wrote extracted data to {OUTPUT_FILE}')"
   ]
  }
 ],
 "metadata": {
  "kernelspec": {
   "display_name": "vizmod",
   "language": "python",
   "name": "python3"
  },
  "language_info": {
   "codemirror_mode": {
    "name": "ipython",
    "version": 3
   },
   "file_extension": ".py",
   "mimetype": "text/x-python",
   "name": "python",
   "nbconvert_exporter": "python",
   "pygments_lexer": "ipython3",
   "version": "3.10.17"
  }
 },
 "nbformat": 4,
 "nbformat_minor": 5
}
